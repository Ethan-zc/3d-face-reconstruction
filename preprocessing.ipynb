{
 "cells": [
  {
   "cell_type": "code",
   "execution_count": 1,
   "id": "9ba9bc22",
   "metadata": {},
   "outputs": [],
   "source": [
    "from mtcnn import MTCNN\n",
    "import cv2\n",
    "import os"
   ]
  },
  {
   "cell_type": "code",
   "execution_count": 2,
   "id": "131fcda0",
   "metadata": {},
   "outputs": [
    {
     "name": "stderr",
     "output_type": "stream",
     "text": [
      "2022-05-12 15:27:27.747782: I tensorflow/stream_executor/cuda/cuda_gpu_executor.cc:936] successful NUMA node read from SysFS had negative value (-1), but there must be at least one NUMA node, so returning NUMA node zero\n",
      "2022-05-12 15:27:27.792113: W tensorflow/stream_executor/platform/default/dso_loader.cc:64] Could not load dynamic library 'libcudnn.so.8'; dlerror: libcudnn.so.8: cannot open shared object file: No such file or directory; LD_LIBRARY_PATH: /home/zichen/miniconda3/envs/project/lib/python3.9/site-packages/cv2/../../lib64:\n",
      "2022-05-12 15:27:27.792133: W tensorflow/core/common_runtime/gpu/gpu_device.cc:1850] Cannot dlopen some GPU libraries. Please make sure the missing libraries mentioned above are installed properly if you would like to use GPU. Follow the guide at https://www.tensorflow.org/install/gpu for how to download and setup the required libraries for your platform.\n",
      "Skipping registering GPU devices...\n",
      "2022-05-12 15:27:27.793122: I tensorflow/core/platform/cpu_feature_guard.cc:151] This TensorFlow binary is optimized with oneAPI Deep Neural Network Library (oneDNN) to use the following CPU instructions in performance-critical operations:  AVX2 FMA\n",
      "To enable them in other operations, rebuild TensorFlow with the appropriate compiler flags.\n"
     ]
    },
    {
     "name": "stdout",
     "output_type": "stream",
     "text": [
      "WARNING:tensorflow:5 out of the last 10 calls to <function Model.make_predict_function.<locals>.predict_function at 0x7efff8342790> triggered tf.function retracing. Tracing is expensive and the excessive number of tracings could be due to (1) creating @tf.function repeatedly in a loop, (2) passing tensors with different shapes, (3) passing Python objects instead of tensors. For (1), please define your @tf.function outside of the loop. For (2), @tf.function has experimental_relax_shapes=True option that relaxes argument shapes that can avoid unnecessary retracing. For (3), please refer to https://www.tensorflow.org/guide/function#controlling_retracing and https://www.tensorflow.org/api_docs/python/tf/function for  more details.\n"
     ]
    }
   ],
   "source": [
    "img = cv2.cvtColor(cv2.imread(\"./images/Aaron_Eckhart_0001.jpg\"), cv2.COLOR_BGR2RGB)\n",
    "detector = MTCNN()\n",
    "detections = detector.detect_faces(img)"
   ]
  },
  {
   "cell_type": "code",
   "execution_count": 3,
   "id": "e598b551",
   "metadata": {},
   "outputs": [
    {
     "data": {
      "text/plain": [
       "[{'box': [70, 59, 97, 129],\n",
       "  'confidence': 0.9999412298202515,\n",
       "  'keypoints': {'left_eye': (106, 106),\n",
       "   'right_eye': (149, 112),\n",
       "   'nose': (131, 139),\n",
       "   'mouth_left': (104, 157),\n",
       "   'mouth_right': (140, 160)}}]"
      ]
     },
     "execution_count": 3,
     "metadata": {},
     "output_type": "execute_result"
    }
   ],
   "source": [
    "detections"
   ]
  },
  {
   "cell_type": "code",
   "execution_count": 5,
   "id": "e4271a75",
   "metadata": {},
   "outputs": [
    {
     "name": "stdout",
     "output_type": "stream",
     "text": [
      "./testing_img/zichenyang.jpg\n",
      "{'left_eye': (104, 129), 'right_eye': (174, 126), 'nose': (144, 161), 'mouth_left': (112, 195), 'mouth_right': (175, 189)}\n",
      "./testing_img/zhangnanjiang.jpg\n",
      "{'left_eye': (97, 133), 'right_eye': (148, 130), 'nose': (123, 160), 'mouth_left': (101, 181), 'mouth_right': (147, 178)}\n"
     ]
    }
   ],
   "source": [
    "directory = \"./testing_img\"\n",
    "output_dir = \"testing_output/\"\n",
    "for filename in os.listdir(directory):\n",
    "    f = os.path.join(directory, filename)\n",
    "    print(f)\n",
    "    img = cv2.cvtColor(cv2.imread(f), cv2.COLOR_BGR2RGB)\n",
    "    detector = MTCNN()\n",
    "    detections = detector.detect_faces(img)\n",
    "    keypoints = detections[0]['keypoints']\n",
    "    print(keypoints)\n",
    "    with open(output_dir + os.path.splitext(filename)[0]+\".txt\", 'w') as f:\n",
    "        f.write(str(keypoints['left_eye'][0]) + \" \" + str(keypoints['left_eye'][1]) + \"\\n\")\n",
    "        f.write(str(keypoints['right_eye'][0]) + \" \" + str(keypoints['right_eye'][1]) + \"\\n\")\n",
    "        f.write(str(keypoints['nose'][0]) + \" \" + str(keypoints['nose'][1]) + \"\\n\")\n",
    "        f.write(str(keypoints['mouth_left'][0]) + \" \" + str(keypoints['mouth_left'][1]) + \"\\n\")\n",
    "        f.write(str(keypoints['mouth_right'][0]) + \" \" + str(keypoints['mouth_right'][1]))\n",
    "        "
   ]
  },
  {
   "cell_type": "code",
   "execution_count": null,
   "id": "ec985e12",
   "metadata": {},
   "outputs": [],
   "source": []
  }
 ],
 "metadata": {
  "kernelspec": {
   "display_name": "Python [conda env:project] *",
   "language": "python",
   "name": "conda-env-project-py"
  },
  "language_info": {
   "codemirror_mode": {
    "name": "ipython",
    "version": 3
   },
   "file_extension": ".py",
   "mimetype": "text/x-python",
   "name": "python",
   "nbconvert_exporter": "python",
   "pygments_lexer": "ipython3",
   "version": "3.9.12"
  }
 },
 "nbformat": 4,
 "nbformat_minor": 5
}
